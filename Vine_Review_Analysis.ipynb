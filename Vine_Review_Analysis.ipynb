{
  "nbformat": 4,
  "nbformat_minor": 0,
  "metadata": {
    "colab": {
      "provenance": []
    },
    "kernelspec": {
      "name": "python3",
      "display_name": "Python 3"
    },
    "language_info": {
      "name": "python"
    }
  },
  "cells": [
    {
      "cell_type": "code",
      "source": [
        "import os\n",
        "# Find the latest version of spark 3.2 from http://www.apache.org/dist/spark/ and enter as the spark version\n",
        "# For example:\n",
        "# spark_version = 'spark-3.2.3'\n",
        "spark_version = 'spark-3.2.3'\n",
        "os.environ['SPARK_VERSION']=spark_version\n",
        "\n",
        "# Install Spark and Java\n",
        "!apt-get update\n",
        "!apt-get install openjdk-11-jdk-headless -qq > /dev/null\n",
        "!wget -q http://www.apache.org/dist/spark/$SPARK_VERSION/$SPARK_VERSION-bin-hadoop2.7.tgz\n",
        "!tar xf $SPARK_VERSION-bin-hadoop2.7.tgz\n",
        "!pip install -q findspark\n",
        "\n",
        "# Set Environment Variables\n",
        "import os\n",
        "os.environ[\"JAVA_HOME\"] = \"/usr/lib/jvm/java-11-openjdk-amd64\"\n",
        "os.environ[\"SPARK_HOME\"] = f\"/content/{spark_version}-bin-hadoop2.7\"\n",
        "\n",
        "# Start a SparkSession\n",
        "import findspark\n",
        "findspark.init()"
      ],
      "metadata": {
        "colab": {
          "base_uri": "https://localhost:8080/"
        },
        "id": "aW4x6h2MaM_v",
        "outputId": "ad69cb6e-226f-46a5-f34e-7a1fc18b6066"
      },
      "execution_count": 1,
      "outputs": [
        {
          "output_type": "stream",
          "name": "stdout",
          "text": [
            "Get:1 https://cloud.r-project.org/bin/linux/ubuntu focal-cran40/ InRelease [3,622 B]\n",
            "Ign:2 https://developer.download.nvidia.com/compute/machine-learning/repos/ubuntu2004/x86_64  InRelease\n",
            "Hit:3 https://developer.download.nvidia.com/compute/cuda/repos/ubuntu2004/x86_64  InRelease\n",
            "Hit:4 https://developer.download.nvidia.com/compute/machine-learning/repos/ubuntu2004/x86_64  Release\n",
            "Hit:5 http://ppa.launchpad.net/c2d4u.team/c2d4u4.0+/ubuntu focal InRelease\n",
            "Hit:6 http://archive.ubuntu.com/ubuntu focal InRelease\n",
            "Get:7 http://security.ubuntu.com/ubuntu focal-security InRelease [114 kB]\n",
            "Get:8 http://archive.ubuntu.com/ubuntu focal-updates InRelease [114 kB]\n",
            "Hit:10 http://ppa.launchpad.net/cran/libgit2/ubuntu focal InRelease\n",
            "Hit:11 http://ppa.launchpad.net/deadsnakes/ppa/ubuntu focal InRelease\n",
            "Get:12 http://archive.ubuntu.com/ubuntu focal-backports InRelease [108 kB]\n",
            "Hit:13 http://ppa.launchpad.net/graphics-drivers/ppa/ubuntu focal InRelease\n",
            "Get:14 http://archive.ubuntu.com/ubuntu focal-updates/universe amd64 Packages [1,310 kB]\n",
            "Hit:15 http://ppa.launchpad.net/ubuntugis/ppa/ubuntu focal InRelease\n",
            "Get:16 http://security.ubuntu.com/ubuntu focal-security/universe amd64 Packages [1,015 kB]\n",
            "Get:17 http://archive.ubuntu.com/ubuntu focal-updates/main amd64 Packages [3,014 kB]\n",
            "Get:18 http://security.ubuntu.com/ubuntu focal-security/main amd64 Packages [2,539 kB]\n",
            "Fetched 8,218 kB in 4s (1,951 kB/s)\n",
            "Reading package lists... Done\n"
          ]
        }
      ]
    },
    {
      "cell_type": "code",
      "execution_count": 2,
      "metadata": {
        "id": "aMgt0KWQZ2Sv"
      },
      "outputs": [],
      "source": [
        "from pyspark.sql import SparkSession\n",
        "spark = SparkSession.builder.appName(\"M17-Amazon-Challenge\").config(\"spark.driver.extraClassPath\",\"/content/postgresql-42.2.16.jar\").getOrCreate()"
      ]
    },
    {
      "cell_type": "code",
      "source": [
        "from pyspark import SparkFiles\n",
        "url = \"https://s3.amazonaws.com/amazon-reviews-pds/tsv/amazon_reviews_us_PC_v1_00.tsv.gz\"\n",
        "spark.sparkContext.addFile(url)\n",
        "df = spark.read.option(\"encoding\", \"UTF-8\").csv(SparkFiles.get(\"\"), sep=\"\\t\", header=True, inferSchema=True)\n",
        "df.show()"
      ],
      "metadata": {
        "colab": {
          "base_uri": "https://localhost:8080/"
        },
        "id": "SZyYDeBcaXep",
        "outputId": "47235284-641b-458c-b813-14e0ec16a96c"
      },
      "execution_count": 3,
      "outputs": [
        {
          "output_type": "stream",
          "name": "stdout",
          "text": [
            "+-----------+-----------+--------------+----------+--------------+--------------------+----------------+-----------+-------------+-----------+----+-----------------+--------------------+--------------------+-----------+\n",
            "|marketplace|customer_id|     review_id|product_id|product_parent|       product_title|product_category|star_rating|helpful_votes|total_votes|vine|verified_purchase|     review_headline|         review_body|review_date|\n",
            "+-----------+-----------+--------------+----------+--------------+--------------------+----------------+-----------+-------------+-----------+----+-----------------+--------------------+--------------------+-----------+\n",
            "|         US|   22873041|R3ARRMDEGED8RD|B00KJWQIIC|     335625766|Plemo 14-Inch Lap...|              PC|          5|            0|          0|   N|                Y|Pleasantly surprised|I was very surpri...| 2015-08-31|\n",
            "|         US|   30088427| RQ28TSA020Y6J|B013ALA9LA|     671157305|TP-Link OnHub AC1...|              PC|          5|           24|         31|   N|                N|OnHub is a pretty...|I am a Google emp...| 2015-08-31|\n",
            "|         US|   20329786| RUXJRZCT6953M|B00PML2GQ8|     982036237|AmazonBasics USB ...|              PC|          1|            2|          2|   N|                N|None of them work...|Bought cables in ...| 2015-08-31|\n",
            "|         US|   14215710| R7EO0UO6BPB71|B001NS0OZ4|     576587596|Transcend P8 15-i...|              PC|          1|            0|          0|   N|                Y|just keep searching.|nope, cheap and slow| 2015-08-31|\n",
            "|         US|   38264512|R39NJY2YJ1JFSV|B00AQMTND2|     964759214|Aleratec SATA Dat...|              PC|          5|            0|          0|   N|                Y|          Five Stars|Excellent! Great ...| 2015-08-31|\n",
            "|         US|   30548466|R31SR7REWNX7CF|B00KX4TORI|     170101802|Kingston Digital ...|              PC|          5|            0|          0|   N|                Y|Good quality, wor...|Good quality,work...| 2015-08-31|\n",
            "|         US|     589298| RVBP8I1R0CTZ8|B00P17WEMY|     206124740|White 9 Inch Unlo...|              PC|          3|            1|          2|   N|                Y|in fact this is t...|This demn tablet ...| 2015-08-31|\n",
            "|         US|   49329488|R1QF6RS1PDLU18|B00TR05L9Y|     778403103|Lenovo TAB2 A10 -...|              PC|          4|            1|          1|   N|                Y|                Good|I am not sure I d...| 2015-08-31|\n",
            "|         US|   50728290|R23AICGEDAJQL1|B0098Y77OG|     177098042|                Acer|              PC|          1|            0|          0|   N|                Y|You get what you ...|After exactly 45 ...| 2015-08-31|\n",
            "|         US|   37802374|R2EY3N4K9W19UP|B00IFYEYXC|     602496520|AzureWave Broadco...|              PC|          5|            3|          4|   N|                Y|Great for Windows...|Replaced my Intel...| 2015-08-31|\n",
            "|         US|   52027882| RC9AW4HKJ016M|B0091ITP0S|     977217357|HDE Rotating iPad...|              PC|          1|            0|          0|   N|                Y|            One Star|IT HAS ALREADY CR...| 2015-08-31|\n",
            "|         US|   41770239|R2ALWJE9N6ZBXD|B008I21EA2|     295632907|Linksys AC1750 Wi...|              PC|          1|            0|          0|   N|                N|   Very Disappointed|Very disappointed...| 2015-08-31|\n",
            "|         US|   42560427|R2G5FPA4OX37GV|B00MRB7SBO|     922591915|iPad Pro 9.7, iPa...|              PC|          5|            1|          1|   N|                Y|          Five Stars|Works well. I use...| 2015-08-31|\n",
            "|         US|   46345923|R1IKTSEVXSIMOD|B00LLER2CS|     997551273|SanDisk 16GB CZ43...|              PC|          5|            0|          0|   N|                Y|The encryption so...|The encryption so...| 2015-08-31|\n",
            "|         US|   41751192|R2YA6G6SRFEWF6|B00B0CQCCC|     937999925|TRENDnet Wireless...|              PC|          1|            0|          1|   N|                Y|Didn't last 2 years.|I have owned this...| 2015-08-31|\n",
            "|         US|   21176481| RS9H1N9I3Z1IA|B00GU8W5AE|      13865167|Redragon M901 PER...|              PC|          5|            0|          0|   N|                Y|Awesome gaming mouse|My first gaming m...| 2015-08-31|\n",
            "|         US|   10674058| RKKLBI76VTDNT|B00XHMXJQ0|     967483469|Mudder MHL Adapte...|              PC|          1|            0|          0|   N|                Y|            One Star|I cannot get it t...| 2015-08-31|\n",
            "|         US|   43341796|R2NJ3WFUS4E5G6|B00YGJJQ6U|     986548413|Fintie iPad Air 2...|              PC|          4|            0|          0|   N|                Y|Great choices of ...|Love that Finite ...| 2015-08-31|\n",
            "|         US|   13232866|R21PTQNLGCBN0I|B00XMN20Y6|     873354048|Fintie iPad 2/3/4...|              PC|          5|            0|          0|   N|                Y|          Five Stars|Nice color, I lov...| 2015-08-31|\n",
            "|         US|   29333557|R3G4RT3EQ9RSY7|B00MA40W9I|     535866197|Egoway® New Lapto...|              PC|          1|            0|          0|   N|                Y|Totally wasted $6...|Totally wasted $6...| 2015-08-31|\n",
            "+-----------+-----------+--------------+----------+--------------+--------------------+----------------+-----------+-------------+-----------+----+-----------------+--------------------+--------------------+-----------+\n",
            "only showing top 20 rows\n",
            "\n"
          ]
        }
      ]
    },
    {
      "cell_type": "code",
      "source": [
        "from pyspark.sql.functions import to_date\n",
        "# Read in the Review dataset as a DataFrame\n",
        "cleaned_reviews_df = df.dropna()\n",
        "cleaned_reviews_df.show()"
      ],
      "metadata": {
        "colab": {
          "base_uri": "https://localhost:8080/"
        },
        "id": "YaBM28mAaXji",
        "outputId": "3af5c042-23de-4492-e65a-0e77d48ecf02"
      },
      "execution_count": 4,
      "outputs": [
        {
          "output_type": "stream",
          "name": "stdout",
          "text": [
            "+-----------+-----------+--------------+----------+--------------+--------------------+----------------+-----------+-------------+-----------+----+-----------------+--------------------+--------------------+-----------+\n",
            "|marketplace|customer_id|     review_id|product_id|product_parent|       product_title|product_category|star_rating|helpful_votes|total_votes|vine|verified_purchase|     review_headline|         review_body|review_date|\n",
            "+-----------+-----------+--------------+----------+--------------+--------------------+----------------+-----------+-------------+-----------+----+-----------------+--------------------+--------------------+-----------+\n",
            "|         US|   22873041|R3ARRMDEGED8RD|B00KJWQIIC|     335625766|Plemo 14-Inch Lap...|              PC|          5|            0|          0|   N|                Y|Pleasantly surprised|I was very surpri...| 2015-08-31|\n",
            "|         US|   30088427| RQ28TSA020Y6J|B013ALA9LA|     671157305|TP-Link OnHub AC1...|              PC|          5|           24|         31|   N|                N|OnHub is a pretty...|I am a Google emp...| 2015-08-31|\n",
            "|         US|   20329786| RUXJRZCT6953M|B00PML2GQ8|     982036237|AmazonBasics USB ...|              PC|          1|            2|          2|   N|                N|None of them work...|Bought cables in ...| 2015-08-31|\n",
            "|         US|   14215710| R7EO0UO6BPB71|B001NS0OZ4|     576587596|Transcend P8 15-i...|              PC|          1|            0|          0|   N|                Y|just keep searching.|nope, cheap and slow| 2015-08-31|\n",
            "|         US|   38264512|R39NJY2YJ1JFSV|B00AQMTND2|     964759214|Aleratec SATA Dat...|              PC|          5|            0|          0|   N|                Y|          Five Stars|Excellent! Great ...| 2015-08-31|\n",
            "|         US|   30548466|R31SR7REWNX7CF|B00KX4TORI|     170101802|Kingston Digital ...|              PC|          5|            0|          0|   N|                Y|Good quality, wor...|Good quality,work...| 2015-08-31|\n",
            "|         US|     589298| RVBP8I1R0CTZ8|B00P17WEMY|     206124740|White 9 Inch Unlo...|              PC|          3|            1|          2|   N|                Y|in fact this is t...|This demn tablet ...| 2015-08-31|\n",
            "|         US|   49329488|R1QF6RS1PDLU18|B00TR05L9Y|     778403103|Lenovo TAB2 A10 -...|              PC|          4|            1|          1|   N|                Y|                Good|I am not sure I d...| 2015-08-31|\n",
            "|         US|   50728290|R23AICGEDAJQL1|B0098Y77OG|     177098042|                Acer|              PC|          1|            0|          0|   N|                Y|You get what you ...|After exactly 45 ...| 2015-08-31|\n",
            "|         US|   37802374|R2EY3N4K9W19UP|B00IFYEYXC|     602496520|AzureWave Broadco...|              PC|          5|            3|          4|   N|                Y|Great for Windows...|Replaced my Intel...| 2015-08-31|\n",
            "|         US|   52027882| RC9AW4HKJ016M|B0091ITP0S|     977217357|HDE Rotating iPad...|              PC|          1|            0|          0|   N|                Y|            One Star|IT HAS ALREADY CR...| 2015-08-31|\n",
            "|         US|   41770239|R2ALWJE9N6ZBXD|B008I21EA2|     295632907|Linksys AC1750 Wi...|              PC|          1|            0|          0|   N|                N|   Very Disappointed|Very disappointed...| 2015-08-31|\n",
            "|         US|   42560427|R2G5FPA4OX37GV|B00MRB7SBO|     922591915|iPad Pro 9.7, iPa...|              PC|          5|            1|          1|   N|                Y|          Five Stars|Works well. I use...| 2015-08-31|\n",
            "|         US|   46345923|R1IKTSEVXSIMOD|B00LLER2CS|     997551273|SanDisk 16GB CZ43...|              PC|          5|            0|          0|   N|                Y|The encryption so...|The encryption so...| 2015-08-31|\n",
            "|         US|   41751192|R2YA6G6SRFEWF6|B00B0CQCCC|     937999925|TRENDnet Wireless...|              PC|          1|            0|          1|   N|                Y|Didn't last 2 years.|I have owned this...| 2015-08-31|\n",
            "|         US|   21176481| RS9H1N9I3Z1IA|B00GU8W5AE|      13865167|Redragon M901 PER...|              PC|          5|            0|          0|   N|                Y|Awesome gaming mouse|My first gaming m...| 2015-08-31|\n",
            "|         US|   10674058| RKKLBI76VTDNT|B00XHMXJQ0|     967483469|Mudder MHL Adapte...|              PC|          1|            0|          0|   N|                Y|            One Star|I cannot get it t...| 2015-08-31|\n",
            "|         US|   43341796|R2NJ3WFUS4E5G6|B00YGJJQ6U|     986548413|Fintie iPad Air 2...|              PC|          4|            0|          0|   N|                Y|Great choices of ...|Love that Finite ...| 2015-08-31|\n",
            "|         US|   13232866|R21PTQNLGCBN0I|B00XMN20Y6|     873354048|Fintie iPad 2/3/4...|              PC|          5|            0|          0|   N|                Y|          Five Stars|Nice color, I lov...| 2015-08-31|\n",
            "|         US|   29333557|R3G4RT3EQ9RSY7|B00MA40W9I|     535866197|Egoway® New Lapto...|              PC|          1|            0|          0|   N|                Y|Totally wasted $6...|Totally wasted $6...| 2015-08-31|\n",
            "+-----------+-----------+--------------+----------+--------------+--------------------+----------------+-----------+-------------+-----------+----+-----------------+--------------------+--------------------+-----------+\n",
            "only showing top 20 rows\n",
            "\n"
          ]
        }
      ]
    },
    {
      "cell_type": "code",
      "source": [
        "# Create the vine_table. DataFrame\n",
        "vine_df = cleaned_reviews_df.select([\"review_id\", \"star_rating\", \"helpful_votes\", \"total_votes\", \"vine\", \"verified_purchase\"])\n",
        "vine_df.show()"
      ],
      "metadata": {
        "colab": {
          "base_uri": "https://localhost:8080/"
        },
        "id": "a0JwH5G8axR9",
        "outputId": "95549c4c-0b89-4e17-db3e-146364fa611d"
      },
      "execution_count": 5,
      "outputs": [
        {
          "output_type": "stream",
          "name": "stdout",
          "text": [
            "+--------------+-----------+-------------+-----------+----+-----------------+\n",
            "|     review_id|star_rating|helpful_votes|total_votes|vine|verified_purchase|\n",
            "+--------------+-----------+-------------+-----------+----+-----------------+\n",
            "|R3ARRMDEGED8RD|          5|            0|          0|   N|                Y|\n",
            "| RQ28TSA020Y6J|          5|           24|         31|   N|                N|\n",
            "| RUXJRZCT6953M|          1|            2|          2|   N|                N|\n",
            "| R7EO0UO6BPB71|          1|            0|          0|   N|                Y|\n",
            "|R39NJY2YJ1JFSV|          5|            0|          0|   N|                Y|\n",
            "|R31SR7REWNX7CF|          5|            0|          0|   N|                Y|\n",
            "| RVBP8I1R0CTZ8|          3|            1|          2|   N|                Y|\n",
            "|R1QF6RS1PDLU18|          4|            1|          1|   N|                Y|\n",
            "|R23AICGEDAJQL1|          1|            0|          0|   N|                Y|\n",
            "|R2EY3N4K9W19UP|          5|            3|          4|   N|                Y|\n",
            "| RC9AW4HKJ016M|          1|            0|          0|   N|                Y|\n",
            "|R2ALWJE9N6ZBXD|          1|            0|          0|   N|                N|\n",
            "|R2G5FPA4OX37GV|          5|            1|          1|   N|                Y|\n",
            "|R1IKTSEVXSIMOD|          5|            0|          0|   N|                Y|\n",
            "|R2YA6G6SRFEWF6|          1|            0|          1|   N|                Y|\n",
            "| RS9H1N9I3Z1IA|          5|            0|          0|   N|                Y|\n",
            "| RKKLBI76VTDNT|          1|            0|          0|   N|                Y|\n",
            "|R2NJ3WFUS4E5G6|          4|            0|          0|   N|                Y|\n",
            "|R21PTQNLGCBN0I|          5|            0|          0|   N|                Y|\n",
            "|R3G4RT3EQ9RSY7|          1|            0|          0|   N|                Y|\n",
            "+--------------+-----------+-------------+-----------+----+-----------------+\n",
            "only showing top 20 rows\n",
            "\n"
          ]
        }
      ]
    },
    {
      "cell_type": "code",
      "source": [
        "# Filter the data and create a new DataFrame to retrieve all the rows where the total_votes count is equal to or greater than 20\n",
        "total_vote_twenty = vine_df.filter(\"total_votes >= 20\")\n",
        "total_vote_twenty.show()"
      ],
      "metadata": {
        "colab": {
          "base_uri": "https://localhost:8080/"
        },
        "id": "AJ1t9YhqbJmC",
        "outputId": "4e7802ac-4bfb-40f0-c27f-975f89ab4291"
      },
      "execution_count": 32,
      "outputs": [
        {
          "output_type": "stream",
          "name": "stdout",
          "text": [
            "+--------------+-----------+-------------+-----------+----+-----------------+\n",
            "|     review_id|star_rating|helpful_votes|total_votes|vine|verified_purchase|\n",
            "+--------------+-----------+-------------+-----------+----+-----------------+\n",
            "| RQ28TSA020Y6J|          5|           24|         31|   N|                N|\n",
            "|R25D83AEJRXUWO|          4|           18|         21|   N|                Y|\n",
            "|R35OW0SJPJWAHO|          1|           12|        162|   N|                Y|\n",
            "| RAP2ETU511BOI|          1|            5|         99|   N|                Y|\n",
            "|R1S9O5CCTD61ZD|          1|           45|         71|   N|                N|\n",
            "|R1RMOCWMV8F4VH|          1|            5|         21|   N|                Y|\n",
            "|R351KVE3VO78W9|          3|           36|         42|   N|                Y|\n",
            "| R4LANIHO6EXAH|          4|           35|         35|   N|                Y|\n",
            "|R3V26MZUOWAUA4|          3|           35|         45|   N|                Y|\n",
            "|R38OLNY5GR1PW6|          5|           44|         44|   N|                Y|\n",
            "|R2GK7RJNIAREIT|          1|           30|         32|   N|                Y|\n",
            "|R2OWRP6FXXECMK|          1|           42|         44|   N|                Y|\n",
            "|R260E9JPZZZ01Q|          2|           10|         27|   N|                N|\n",
            "| ROR2FE6Y8EZYG|          5|           19|         22|   N|                Y|\n",
            "|R3LXTGRG4QSBR6|          2|            0|         20|   N|                Y|\n",
            "|R1UWNRDWUZR68D|          3|           60|         60|   N|                Y|\n",
            "| RIJYX8PG45XOB|          5|           51|         52|   N|                Y|\n",
            "|R2WPARQ94X1HCG|          1|            0|         22|   N|                Y|\n",
            "|R24PUIWP0XB411|          1|           27|         27|   N|                Y|\n",
            "| RBYFK3W84LW9F|          2|           32|         37|   N|                Y|\n",
            "+--------------+-----------+-------------+-----------+----+-----------------+\n",
            "only showing top 20 rows\n",
            "\n"
          ]
        }
      ]
    },
    {
      "cell_type": "code",
      "source": [
        "# Create a new DataFrame to retrieve all the rows where the number of helpful_votes divided by total_votes is equal to or greater than 50%\n",
        "helpful_by_total_vote_fifty_percent = total_vote_twenty.filter(\"(helpful_votes/total_votes)>=0.5\")\n",
        "helpful_by_total_vote_fifty_percent.show()"
      ],
      "metadata": {
        "colab": {
          "base_uri": "https://localhost:8080/"
        },
        "id": "ZQWMeUFUcqzN",
        "outputId": "4757a7d8-7e85-4e39-fd3d-e24afc006ee9"
      },
      "execution_count": 39,
      "outputs": [
        {
          "output_type": "stream",
          "name": "stdout",
          "text": [
            "+--------------+-----------+-------------+-----------+----+-----------------+\n",
            "|     review_id|star_rating|helpful_votes|total_votes|vine|verified_purchase|\n",
            "+--------------+-----------+-------------+-----------+----+-----------------+\n",
            "| RQ28TSA020Y6J|          5|           24|         31|   N|                N|\n",
            "|R25D83AEJRXUWO|          4|           18|         21|   N|                Y|\n",
            "|R1S9O5CCTD61ZD|          1|           45|         71|   N|                N|\n",
            "|R351KVE3VO78W9|          3|           36|         42|   N|                Y|\n",
            "| R4LANIHO6EXAH|          4|           35|         35|   N|                Y|\n",
            "|R3V26MZUOWAUA4|          3|           35|         45|   N|                Y|\n",
            "|R38OLNY5GR1PW6|          5|           44|         44|   N|                Y|\n",
            "|R2GK7RJNIAREIT|          1|           30|         32|   N|                Y|\n",
            "|R2OWRP6FXXECMK|          1|           42|         44|   N|                Y|\n",
            "| ROR2FE6Y8EZYG|          5|           19|         22|   N|                Y|\n",
            "|R1UWNRDWUZR68D|          3|           60|         60|   N|                Y|\n",
            "| RIJYX8PG45XOB|          5|           51|         52|   N|                Y|\n",
            "|R24PUIWP0XB411|          1|           27|         27|   N|                Y|\n",
            "| RBYFK3W84LW9F|          2|           32|         37|   N|                Y|\n",
            "| RT880ROJ1I4Z5|          5|           22|         31|   N|                N|\n",
            "|R2ICLUNZ6A5DXB|          1|           16|         23|   N|                Y|\n",
            "|R3H11HIP4SCL9V|          5|           31|         33|   N|                Y|\n",
            "| RPG85MPSR10JG|          1|           23|         26|   N|                Y|\n",
            "|R2UAVRDG3AUF3K|          5|           14|         21|   N|                N|\n",
            "|R2CEZU1K5CVLRL|          1|           17|         22|   N|                Y|\n",
            "+--------------+-----------+-------------+-----------+----+-----------------+\n",
            "only showing top 20 rows\n",
            "\n"
          ]
        }
      ]
    },
    {
      "cell_type": "code",
      "source": [
        "# Create a new DataFrame that retrieves all the rows where a review was written as part of the Vine program (paid)\n",
        "paid_votes = helpful_by_total_vote_fifty_percent.filter(\"vine == 'Y'\")\n",
        "paid_votes.show()"
      ],
      "metadata": {
        "colab": {
          "base_uri": "https://localhost:8080/"
        },
        "id": "Xj3wCcYDj8-O",
        "outputId": "ffe94379-1a20-4bb5-f7b4-d3ad12c440c6"
      },
      "execution_count": 40,
      "outputs": [
        {
          "output_type": "stream",
          "name": "stdout",
          "text": [
            "+--------------+-----------+-------------+-----------+----+-----------------+\n",
            "|     review_id|star_rating|helpful_votes|total_votes|vine|verified_purchase|\n",
            "+--------------+-----------+-------------+-----------+----+-----------------+\n",
            "|R3J2DPYUH6453D|          5|          136|        153|   Y|                N|\n",
            "|R25QTFLERWK6SJ|          3|          852|        956|   Y|                N|\n",
            "|R1BG71K9B61LI1|          4|           39|         39|   Y|                N|\n",
            "| R8WGX426U56E0|          5|           19|         21|   Y|                N|\n",
            "| R614TCIDD36LE|          4|          131|        147|   Y|                N|\n",
            "|R28X5K1OZBQSBK|          5|           25|         28|   Y|                N|\n",
            "|R2CUDWKAUWGHIT|          5|           19|         24|   Y|                N|\n",
            "| R886ADSI1HBU5|          5|           88|         97|   Y|                N|\n",
            "|R3TTJTAND1CCSV|          5|           21|         23|   Y|                N|\n",
            "|R1W39WXYWNFJBG|          5|           32|         35|   Y|                N|\n",
            "|R18WUOSN0TQD9X|          4|           25|         26|   Y|                N|\n",
            "|R2UGZFCPGAI6OP|          5|           19|         21|   Y|                N|\n",
            "| R7Y17L4FLYYXN|          4|           23|         30|   Y|                N|\n",
            "|R1YEAR1J3MEI3I|          2|          143|        159|   Y|                N|\n",
            "|R1FI3ZKOA0RMR9|          5|          145|        164|   Y|                N|\n",
            "| RFZQEATC76JDP|          3|           17|         22|   Y|                N|\n",
            "|R1LDVLZ6TI5MSX|          3|           18|         27|   Y|                N|\n",
            "|R3GNG9SISW41OZ|          5|          143|        153|   Y|                N|\n",
            "| RSDDNABYLRGA1|          3|           60|         71|   Y|                N|\n",
            "|R2YKR6HFL47R8L|          5|           26|         35|   Y|                N|\n",
            "+--------------+-----------+-------------+-----------+----+-----------------+\n",
            "only showing top 20 rows\n",
            "\n"
          ]
        }
      ]
    },
    {
      "cell_type": "code",
      "source": [
        "# Create a new DataFrame that retrieves all the rows where a review was NOT written as part of the Vine program (unpaid)\n",
        "unpaid_votes = helpful_by_total_vote_fifty_percent.filter(\"vine == 'N'\")\n",
        "unpaid_votes.show()"
      ],
      "metadata": {
        "colab": {
          "base_uri": "https://localhost:8080/"
        },
        "id": "UUNXYEaYjEEu",
        "outputId": "bfc5ecc7-4a39-4ff3-e2d7-31a241ff53fd"
      },
      "execution_count": 41,
      "outputs": [
        {
          "output_type": "stream",
          "name": "stdout",
          "text": [
            "+--------------+-----------+-------------+-----------+----+-----------------+\n",
            "|     review_id|star_rating|helpful_votes|total_votes|vine|verified_purchase|\n",
            "+--------------+-----------+-------------+-----------+----+-----------------+\n",
            "| RQ28TSA020Y6J|          5|           24|         31|   N|                N|\n",
            "|R25D83AEJRXUWO|          4|           18|         21|   N|                Y|\n",
            "|R1S9O5CCTD61ZD|          1|           45|         71|   N|                N|\n",
            "|R351KVE3VO78W9|          3|           36|         42|   N|                Y|\n",
            "| R4LANIHO6EXAH|          4|           35|         35|   N|                Y|\n",
            "|R3V26MZUOWAUA4|          3|           35|         45|   N|                Y|\n",
            "|R38OLNY5GR1PW6|          5|           44|         44|   N|                Y|\n",
            "|R2GK7RJNIAREIT|          1|           30|         32|   N|                Y|\n",
            "|R2OWRP6FXXECMK|          1|           42|         44|   N|                Y|\n",
            "| ROR2FE6Y8EZYG|          5|           19|         22|   N|                Y|\n",
            "|R1UWNRDWUZR68D|          3|           60|         60|   N|                Y|\n",
            "| RIJYX8PG45XOB|          5|           51|         52|   N|                Y|\n",
            "|R24PUIWP0XB411|          1|           27|         27|   N|                Y|\n",
            "| RBYFK3W84LW9F|          2|           32|         37|   N|                Y|\n",
            "| RT880ROJ1I4Z5|          5|           22|         31|   N|                N|\n",
            "|R2ICLUNZ6A5DXB|          1|           16|         23|   N|                Y|\n",
            "|R3H11HIP4SCL9V|          5|           31|         33|   N|                Y|\n",
            "| RPG85MPSR10JG|          1|           23|         26|   N|                Y|\n",
            "|R2UAVRDG3AUF3K|          5|           14|         21|   N|                N|\n",
            "|R2CEZU1K5CVLRL|          1|           17|         22|   N|                Y|\n",
            "+--------------+-----------+-------------+-----------+----+-----------------+\n",
            "only showing top 20 rows\n",
            "\n"
          ]
        }
      ]
    },
    {
      "cell_type": "code",
      "source": [
        "# Total number of reviews\n",
        "total_reviews_count = helpful_by_total_vote_fifty_percent.count()\n",
        "total_reviews_count"
      ],
      "metadata": {
        "colab": {
          "base_uri": "https://localhost:8080/"
        },
        "id": "rDL_tI77nkpS",
        "outputId": "3ac0cb64-83b9-46c8-9a38-7bdd9cdc5ef4"
      },
      "execution_count": 46,
      "outputs": [
        {
          "output_type": "execute_result",
          "data": {
            "text/plain": [
              "79145"
            ]
          },
          "metadata": {},
          "execution_count": 46
        }
      ]
    },
    {
      "cell_type": "code",
      "source": [
        "# Total number of paid reviews\n",
        "paid_reviews_count = paid_votes.count()\n",
        "paid_reviews_count"
      ],
      "metadata": {
        "colab": {
          "base_uri": "https://localhost:8080/"
        },
        "id": "FnpBVYbyoR01",
        "outputId": "a227805e-6fd1-48e7-9dd5-7d86f5598d22"
      },
      "execution_count": 52,
      "outputs": [
        {
          "output_type": "execute_result",
          "data": {
            "text/plain": [
              "1775"
            ]
          },
          "metadata": {},
          "execution_count": 52
        }
      ]
    },
    {
      "cell_type": "code",
      "source": [
        "# Total number of unpaid reviews\n",
        "unpaid_reviews_count = unpaid_votes.count()\n",
        "unpaid_reviews_count"
      ],
      "metadata": {
        "colab": {
          "base_uri": "https://localhost:8080/"
        },
        "id": "pimKlf49oWE6",
        "outputId": "9c35819d-3766-4153-f2f8-2cc225055611"
      },
      "execution_count": 53,
      "outputs": [
        {
          "output_type": "execute_result",
          "data": {
            "text/plain": [
              "77370"
            ]
          },
          "metadata": {},
          "execution_count": 53
        }
      ]
    },
    {
      "cell_type": "code",
      "source": [
        "# Total number of 5-star reviews\n",
        "total_five_star_reviews_count = helpful_by_total_vote_fifty_percent.filter(\"star_rating == 5\").count()\n",
        "total_five_star_reviews_count"
      ],
      "metadata": {
        "colab": {
          "base_uri": "https://localhost:8080/"
        },
        "id": "BdS3CpSznqV3",
        "outputId": "a0a0c81f-0e3a-4df7-b4b5-926764e9acba"
      },
      "execution_count": 54,
      "outputs": [
        {
          "output_type": "execute_result",
          "data": {
            "text/plain": [
              "36727"
            ]
          },
          "metadata": {},
          "execution_count": 54
        }
      ]
    },
    {
      "cell_type": "code",
      "source": [
        "# Total number of paid 5-star reviews\n",
        "paid_five_star_reviews_count = paid_votes.filter(\"star_rating == 5\").count()\n",
        "paid_five_star_reviews_count"
      ],
      "metadata": {
        "colab": {
          "base_uri": "https://localhost:8080/"
        },
        "id": "ewDYNK7EoaIG",
        "outputId": "06e32fa8-7c7b-4192-b4ae-ce20b5ee7b2b"
      },
      "execution_count": 55,
      "outputs": [
        {
          "output_type": "execute_result",
          "data": {
            "text/plain": [
              "783"
            ]
          },
          "metadata": {},
          "execution_count": 55
        }
      ]
    },
    {
      "cell_type": "code",
      "source": [
        "# Total number of unpaid 5-star reviews\n",
        "unpaid_five_star_reviews_count = unpaid_votes.filter(\"star_rating == 5\").count()\n",
        "unpaid_five_star_reviews_count"
      ],
      "metadata": {
        "colab": {
          "base_uri": "https://localhost:8080/"
        },
        "id": "4kH8TZCCodhV",
        "outputId": "da46cd53-bea3-4ed6-baaa-2cc3aa132630"
      },
      "execution_count": 56,
      "outputs": [
        {
          "output_type": "execute_result",
          "data": {
            "text/plain": [
              "35944"
            ]
          },
          "metadata": {},
          "execution_count": 56
        }
      ]
    },
    {
      "cell_type": "code",
      "source": [
        "# Paid percentage of 5-star reviews \n",
        "paid_five_star_reviews_percent= (paid_five_star_reviews_count/paid_reviews_count)*100\n",
        "\n",
        "paid_five_star_reviews_percent"
      ],
      "metadata": {
        "colab": {
          "base_uri": "https://localhost:8080/"
        },
        "id": "mOs4w0RJnqki",
        "outputId": "980a8aed-cbb8-49a9-e78c-fb9065545657"
      },
      "execution_count": 58,
      "outputs": [
        {
          "output_type": "execute_result",
          "data": {
            "text/plain": [
              "44.11267605633803"
            ]
          },
          "metadata": {},
          "execution_count": 58
        }
      ]
    },
    {
      "cell_type": "code",
      "source": [
        "# Unpaid percentage of 5-star reviews \n",
        "paid_five_star_reviews_percent= (unpaid_five_star_reviews_count/paid_reviews_count)*100\n",
        "\n",
        "paid_five_star_reviews_percent"
      ],
      "metadata": {
        "colab": {
          "base_uri": "https://localhost:8080/"
        },
        "id": "__6Ii9yfnqrp",
        "outputId": "8202d24a-86ac-45dd-85ca-b745f9b0e633"
      },
      "execution_count": 59,
      "outputs": [
        {
          "output_type": "execute_result",
          "data": {
            "text/plain": [
              "2025.0140845070423"
            ]
          },
          "metadata": {},
          "execution_count": 59
        }
      ]
    }
  ]
}